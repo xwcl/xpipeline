{
 "cells": [
  {
   "cell_type": "code",
   "execution_count": 1,
   "id": "48ca6856-e03b-4720-900f-09f66e17b6b1",
   "metadata": {},
   "outputs": [],
   "source": [
    "from xpipeline.tasks import improc, characterization"
   ]
  },
  {
   "cell_type": "markdown",
   "id": "eede95ec-f642-4f9d-98ba-f38f54c61125",
   "metadata": {},
   "source": [
    "# Establishing the axis and rotation conventions in xpipeline"
   ]
  },
  {
   "cell_type": "code",
   "execution_count": 2,
   "id": "6ee1fc59-39e3-4a53-8be4-ac1ea7efd6e5",
   "metadata": {},
   "outputs": [],
   "source": [
    "bpicdata = np.load('../xpipeline/ref/naco_betapic_preproc_absil2013_gonzalez2017.npz')"
   ]
  },
  {
   "cell_type": "code",
   "execution_count": 6,
   "id": "af13b20e-e3b4-4c8d-9b74-5bbf4c27f372",
   "metadata": {},
   "outputs": [
    {
     "data": {
      "text/plain": [
       "['_vip_version',\n",
       " '_vip_object',\n",
       " 'cube',\n",
       " 'psf',\n",
       " 'psfn',\n",
       " 'angles',\n",
       " 'fwhm',\n",
       " '_item_fwhm',\n",
       " 'wavelengths',\n",
       " '_item_wavelengths',\n",
       " 'px_scale',\n",
       " '_item_px_scale',\n",
       " 'cuberef',\n",
       " '_item_cuberef']"
      ]
     },
     "execution_count": 6,
     "metadata": {},
     "output_type": "execute_result"
    }
   ],
   "source": [
    "list(bpicdata)"
   ]
  },
  {
   "cell_type": "code",
   "execution_count": 42,
   "id": "114cc540-2f13-4f95-8427-6c199df6947e",
   "metadata": {},
   "outputs": [],
   "source": [
    "angles = bpicdata['angles']\n",
    "cube = bpicdata['cube']\n",
    "psf = bpicdata['psf']"
   ]
  },
  {
   "cell_type": "code",
   "execution_count": 13,
   "id": "447ff401-1c2a-4c06-b072-1dcbd8997705",
   "metadata": {},
   "outputs": [],
   "source": [
    "f_test = improc.f_test(128)"
   ]
  },
  {
   "cell_type": "markdown",
   "id": "6c24396b-83d8-4c7e-8e00-35099a39859d",
   "metadata": {},
   "source": [
    "As a reminder, matplotlib defaults to showing (0, 0) at upper left, using the viridis colormap."
   ]
  },
  {
   "cell_type": "code",
   "execution_count": 23,
   "id": "21580c39-ec7b-481b-8c29-ee448371fe4e",
   "metadata": {},
   "outputs": [
    {
     "data": {
      "text/plain": [
       "<matplotlib.image.AxesImage at 0x16ddf46d0>"
      ]
     },
     "execution_count": 23,
     "metadata": {},
     "output_type": "execute_result"
    },
    {
     "data": {
      "image/png": "[encoded data removed]",
      "text/plain": [
       "<Figure size 432x288 with 1 Axes>"
      ]
     },
     "metadata": {
      "needs_background": "light"
     },
     "output_type": "display_data"
    }
   ],
   "source": [
    "plt.imshow(f_test, cmap='viridis', origin='upper')"
   ]
  },
  {
   "cell_type": "markdown",
   "id": "f1c6da8c-777d-419b-b54f-e2555e3646c8",
   "metadata": {},
   "source": [
    "### Always use `origin='lower'`!\n",
    "Ensure we never forget by using our own wrapper"
   ]
  },
  {
   "cell_type": "code",
   "execution_count": 24,
   "id": "083e088a-133e-4bbd-b032-8d90a6f01c60",
   "metadata": {},
   "outputs": [],
   "source": [
    "def imshow(arr, *args, **kwargs):\n",
    "    if 'origin' not in kwargs:\n",
    "        kwargs['origin'] = 'lower'\n",
    "    if 'cmap' not in kwargs:\n",
    "        kwargs['cmap'] = 'gray'\n",
    "    plt.imshow(arr, *args, **kwargs)"
   ]
  },
  {
   "cell_type": "code",
   "execution_count": 25,
   "id": "47ed6310-e063-4257-9fb1-7880806fe3bc",
   "metadata": {},
   "outputs": [
    {
     "data": {
      "image/png": "[encoded data removed]",
      "text/plain": [
       "<Figure size 432x288 with 1 Axes>"
      ]
     },
     "metadata": {
      "needs_background": "light"
     },
     "output_type": "display_data"
    }
   ],
   "source": [
    "imshow(f_test)"
   ]
  },
  {
   "cell_type": "markdown",
   "id": "208db0d5-fde5-4a26-af9f-e9bad209767e",
   "metadata": {},
   "source": [
    "We're frequently aligned to the star, so it would be more useful to have (0, 0) at the center."
   ]
  },
  {
   "cell_type": "code",
   "execution_count": 26,
   "id": "8e329130-60fe-4749-a0c8-ff883e85052a",
   "metadata": {},
   "outputs": [],
   "source": [
    "def imshow(arr, *args, **kwargs):\n",
    "    ny, nx = arr.shape\n",
    "    if 'origin' not in kwargs:\n",
    "        kwargs['origin'] = 'lower'\n",
    "    if 'cmap' not in kwargs:\n",
    "        kwargs['cmap'] = 'gray'\n",
    "    if 'extent' not in kwargs:\n",
    "        kwargs['extent'] = [-(nx - 1)/2, (nx - 1)/2, -(ny - 1)/2, (ny - 1)/2]\n",
    "    plt.imshow(arr, *args, **kwargs)"
   ]
  },
  {
   "cell_type": "code",
   "execution_count": 29,
   "id": "eb82440d-c2ca-4a41-a9a0-afec64840af2",
   "metadata": {},
   "outputs": [
    {
     "data": {
      "image/png": "[encoded data removed]",
      "text/plain": [
       "<Figure size 432x288 with 1 Axes>"
      ]
     },
     "metadata": {
      "needs_background": "light"
     },
     "output_type": "display_data"
    }
   ],
   "source": [
    "imshow(f_test)"
   ]
  },
  {
   "cell_type": "markdown",
   "id": "d47f6e78-f6a1-4e48-abe6-4904f8e8bcb7",
   "metadata": {},
   "source": [
    "Astronomers measure angles conventionally from a North-up, East-left coordinate frame where angle increases counterclockwise \"East of North\". In other words, a 10 arcsec separation at position angle of 0º will be directly above the reference point (+Y, when Y increases towards the top of the image, as is usual in astronomy)."
   ]
  },
  {
   "cell_type": "markdown",
   "id": "d194dcde-9c02-4910-95b3-862252a6ec45",
   "metadata": {},
   "source": [
    "xpipeline's rotation function takes, as an argument, the number of degrees to rotate counter-clockwise / E of N."
   ]
  },
  {
   "cell_type": "code",
   "execution_count": 37,
   "id": "64e1cd8a-cff9-4acd-bc8e-b3ee8566bae0",
   "metadata": {},
   "outputs": [
    {
     "data": {
      "image/png": "[encoded data removed]",
      "text/plain": [
       "<Figure size 432x288 with 1 Axes>"
      ]
     },
     "metadata": {
      "needs_background": "light"
     },
     "output_type": "display_data"
    }
   ],
   "source": [
    "rot_f_deg = 30\n",
    "rot_f = improc.rotate(f_test, rot_f_deg)\n",
    "imshow(rot_f)"
   ]
  },
  {
   "cell_type": "markdown",
   "id": "8ae4e5cb-2287-42b9-982f-6b39bc140506",
   "metadata": {},
   "source": [
    "Convenience functions in `characterization` translate between x, y and r, PA with these conventions."
   ]
  },
  {
   "cell_type": "code",
   "execution_count": 38,
   "id": "3f5385ab-0e68-4b87-a89e-d231d6cec31f",
   "metadata": {},
   "outputs": [
    {
     "data": {
      "text/plain": [
       "(1.5308084989341915e-15, 25.0)"
      ]
     },
     "execution_count": 38,
     "metadata": {},
     "output_type": "execute_result"
    }
   ],
   "source": [
    "characterization.r_pa_to_x_y(25, 0, 0, 0)"
   ]
  },
  {
   "cell_type": "code",
   "execution_count": 39,
   "id": "24baa01e-b831-4868-9cb0-1a92ee27bdf9",
   "metadata": {},
   "outputs": [
    {
     "data": {
      "text/plain": [
       "(25.0, 0.0)"
      ]
     },
     "execution_count": 39,
     "metadata": {},
     "output_type": "execute_result"
    }
   ],
   "source": [
    "characterization.x_y_to_r_pa(0, 25, 0, 0)"
   ]
  },
  {
   "cell_type": "code",
   "execution_count": 41,
   "id": "ebf77245-39df-4b4f-8291-85e3236ad3a0",
   "metadata": {},
   "outputs": [
    {
     "data": {
      "text/plain": [
       "<matplotlib.collections.PathCollection at 0x16e957130>"
      ]
     },
     "execution_count": 41,
     "metadata": {},
     "output_type": "execute_result"
    },
    {
     "data": {
      "image/png": "[encoded data removed]",
      "text/plain": [
       "<Figure size 432x288 with 2 Axes>"
      ]
     },
     "metadata": {
      "needs_background": "light"
     },
     "output_type": "display_data"
    }
   ],
   "source": [
    "plt.subplot(121)\n",
    "imshow(f_test)\n",
    "plt.scatter(*characterization.r_pa_to_x_y(25, 0, 0, 0))\n",
    "plt.subplot(122)\n",
    "imshow(rot_f)\n",
    "plt.scatter(*characterization.r_pa_to_x_y(25, rot_f_deg, 0, 0))"
   ]
  },
  {
   "cell_type": "markdown",
   "id": "8b88febc-adf2-4c44-b533-fb2dee7c71f4",
   "metadata": {},
   "source": [
    "# PSF cube generation\n",
    "\n",
    "Be careful when generating a PSF cube. Here we will use the dimensions of the beta Pic b data to generate a model cube."
   ]
  },
  {
   "cell_type": "code",
   "execution_count": 48,
   "id": "8a31bf48-dac7-48ae-a34e-1a214e8059dc",
   "metadata": {},
   "outputs": [],
   "source": [
    "model_cube = characterization.generate_signals(\n",
    "    cube.shape,\n",
    "    [characterization.CompanionSpec(r_px=25, pa_deg=0, scale=1)],\n",
    "    psf,\n",
    "    angles=angles\n",
    ")"
   ]
  },
  {
   "cell_type": "markdown",
   "id": "8af09157-1835-4b0a-aed9-7f4ee0e68d6a",
   "metadata": {},
   "source": [
    "Check the last angle given (because it's easier to see):"
   ]
  },
  {
   "cell_type": "code",
   "execution_count": 52,
   "id": "e86eb2a7-61c4-4508-9006-43165b144b6a",
   "metadata": {},
   "outputs": [
    {
     "data": {
      "text/plain": [
       "67.098564"
      ]
     },
     "execution_count": 52,
     "metadata": {},
     "output_type": "execute_result"
    }
   ],
   "source": [
    "angles[-1]"
   ]
  },
  {
   "cell_type": "markdown",
   "id": "c3774ca0-fc67-4ea1-af98-a9f4bdf59db4",
   "metadata": {},
   "source": [
    "Based on its value, and the PA of 0º passed in, we expect the first frame of the model cube to have a PSF centered at (r, PA) = (0, -67º). That way, when rotated by `angles[-1]` to place North-up East-left, the PSF will be in the +Y direction from the center of the image."
   ]
  },
  {
   "cell_type": "code",
   "execution_count": 54,
   "id": "34a273c8-12c4-4193-accd-f45a8be93226",
   "metadata": {},
   "outputs": [
    {
     "data": {
      "image/png": "[encoded data removed]",
      "text/plain": [
       "<Figure size 432x288 with 1 Axes>"
      ]
     },
     "metadata": {
      "needs_background": "light"
     },
     "output_type": "display_data"
    }
   ],
   "source": [
    "imshow(model_cube[-1])"
   ]
  },
  {
   "cell_type": "markdown",
   "id": "59df215b-98c1-4369-890a-379cf928d83a",
   "metadata": {},
   "source": [
    "There is a helper for using these angles to place N up E left: `improc.derotate_cube`:"
   ]
  },
  {
   "cell_type": "code",
   "execution_count": 57,
   "id": "eb971a0c-ae48-4411-b52e-dfc56bc52b49",
   "metadata": {},
   "outputs": [
    {
     "data": {
      "text/plain": [
       "<matplotlib.lines.Line2D at 0x16e4042e0>"
      ]
     },
     "execution_count": 57,
     "metadata": {},
     "output_type": "execute_result"
    },
    {
     "data": {
      "image/png": "[encoded data removed]",
      "text/plain": [
       "<Figure size 432x288 with 1 Axes>"
      ]
     },
     "metadata": {
      "needs_background": "light"
     },
     "output_type": "display_data"
    }
   ],
   "source": [
    "model_derotated = improc.derotate_cube(model_cube, angles)\n",
    "imshow(model_derotated[-1])\n",
    "plt.axvline(0)"
   ]
  },
  {
   "cell_type": "markdown",
   "id": "99e20b6f-24b6-4dc9-9a24-276a9871ab62",
   "metadata": {},
   "source": [
    "Don't just take my word for it. For data obeying these conventions that contains a real planet, we should recover it."
   ]
  },
  {
   "cell_type": "code",
   "execution_count": 58,
   "id": "6b045cf0-a211-4d94-96d2-48e3973c66a7",
   "metadata": {},
   "outputs": [],
   "source": [
    "cube_derotated = improc.derotate_cube(cube - np.median(cube, axis=0), angles)"
   ]
  },
  {
   "cell_type": "code",
   "execution_count": 61,
   "id": "83fc1c31-1411-4f22-95af-d46e4e6feb19",
   "metadata": {},
   "outputs": [
    {
     "data": {
      "text/plain": [
       "<matplotlib.colorbar.Colorbar at 0x17ef7c3a0>"
      ]
     },
     "execution_count": 61,
     "metadata": {},
     "output_type": "execute_result"
    },
    {
     "data": {
      "image/png": "[encoded data removed]",
      "text/plain": [
       "<Figure size 432x288 with 2 Axes>"
      ]
     },
     "metadata": {
      "needs_background": "light"
     },
     "output_type": "display_data"
    }
   ],
   "source": [
    "imshow(np.median(cube_derotated, axis=0), vmin=0, vmax=30)\n",
    "plt.colorbar()"
   ]
  },
  {
   "cell_type": "code",
   "execution_count": null,
   "id": "7765f763-6e42-4494-a99c-b72b3c61b181",
   "metadata": {},
   "outputs": [],
   "source": []
  }
 ],
 "metadata": {
  "kernelspec": {
   "display_name": "Python 3 (ipykernel)",
   "language": "python",
   "name": "python3"
  },
  "language_info": {
   "codemirror_mode": {
    "name": "ipython",
    "version": 3
   },
   "file_extension": ".py",
   "mimetype": "text/x-python",
   "name": "python",
   "nbconvert_exporter": "python",
   "pygments_lexer": "ipython3",
   "version": "3.9.7"
  }
 },
 "nbformat": 4,
 "nbformat_minor": 5
}
